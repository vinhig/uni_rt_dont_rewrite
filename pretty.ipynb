{
 "cells": [
  {
   "cell_type": "code",
   "execution_count": 2,
   "metadata": {},
   "outputs": [],
   "source": [
    "import skimage\n",
    "from skimage.metrics import structural_similarity as ssim\n",
    "from skimage.metrics import mean_squared_error as mse\n",
    "from skimage.metrics import peak_signal_noise_ratio as psnr\n",
    "import os\n",
    "import struct\n",
    "import cv2\n",
    "import numpy as np\n",
    "from matplotlib import pyplot as plt"
   ]
  },
  {
   "cell_type": "code",
   "execution_count": 3,
   "metadata": {},
   "outputs": [],
   "source": [
    "def load_image(path):\n",
    "    buffer = open(path, \"rb\")\n",
    "    data = buffer.read()\n",
    "    num_floats = len(data) // 16\n",
    "    pixels = np.array(struct.unpack('f'*num_floats*4, data), dtype=np.float32)\n",
    "    pixels = np.flipud(np.reshape(pixels, (720, 1280, 4)))\n",
    "    img = cv2.cvtColor(pixels, cv2.COLOR_RGBA2BGR)\n",
    "\n",
    "    buffer.close()\n",
    "\n",
    "    return img\n",
    "\n",
    "def display_image(img, label=\"\"):\n",
    "    plt.figure(figsize = (20, 20))\n",
    "    plt.imshow(img, interpolation='nearest')\n",
    "    plt.title(label)\n",
    "    plt.show()"
   ]
  },
  {
   "cell_type": "code",
   "execution_count": 25,
   "metadata": {},
   "outputs": [
    {
     "data": {
      "text/plain": [
       "True"
      ]
     },
     "execution_count": 25,
     "metadata": {},
     "output_type": "execute_result"
    }
   ],
   "source": [
    "sponza_ground_truth = load_image(\"blobs/sponza_blob_1024_accum.buff\")\n",
    "cv2.imwrite(\"results/sponza_ground_truth.png\", sponza_ground_truth * 255.0)\n",
    "deleteme_ground_truth = load_image(\"blobs/deleteme_blob_1024_accum.buff\")\n",
    "cv2.imwrite(\"results/deleteme_ground_truth.png\", deleteme_ground_truth * 255.0)\n",
    "dragon_ground_truth = load_image(\"blobs/dragon_blob_1024_accum.buff\")\n",
    "cv2.imwrite(\"results/dragon_ground_truth.png\", dragon_ground_truth * 255.0)"
   ]
  },
  {
   "cell_type": "code",
   "execution_count": 26,
   "metadata": {},
   "outputs": [
    {
     "data": {
      "text/plain": [
       "True"
      ]
     },
     "execution_count": 26,
     "metadata": {},
     "output_type": "execute_result"
    }
   ],
   "source": [
    "sponza_noisy = load_image(\"blobs/sponza_noisy.buff\")\n",
    "cv2.imwrite(\"results/sponza_noisy.png\", sponza_noisy * 255.0)\n",
    "dragon_noisy = load_image(\"blobs/dragon_noisy.buff\")\n",
    "cv2.imwrite(\"results/dragon_noisy.png\", dragon_noisy * 255.0)\n",
    "deleteme_noisy = load_image(\"blobs/deleteme_noisy.buff\")\n",
    "cv2.imwrite(\"results/deleteme_noisy.png\", deleteme_noisy * 255.0)"
   ]
  },
  {
   "cell_type": "markdown",
   "metadata": {},
   "source": []
  },
  {
   "attachments": {},
   "cell_type": "markdown",
   "metadata": {},
   "source": [
    "## BMFR flexxing"
   ]
  },
  {
   "cell_type": "code",
   "execution_count": 27,
   "metadata": {},
   "outputs": [
    {
     "data": {
      "text/plain": [
       "True"
      ]
     },
     "execution_count": 27,
     "metadata": {},
     "output_type": "execute_result"
    }
   ],
   "source": [
    "dragon_bmfr = load_image(\"blobs/dragon_blob_15_bmfr.buff\")\n",
    "cv2.imwrite(\"results/dragon_bmfr.png\", dragon_bmfr * 255.0)\n",
    "sponza_bmfr = load_image(\"blobs/sponza_blob_15_bmfr.buff\")\n",
    "cv2.imwrite(\"results/sponza_bmfr.png\", sponza_bmfr * 255.0)\n",
    "deleteme_bmfr = load_image(\"blobs/deleteme_blob_15_bmfr.buff\")\n",
    "cv2.imwrite(\"results/deleteme_bmfr.png\", deleteme_bmfr * 255.0)"
   ]
  },
  {
   "attachments": {},
   "cell_type": "markdown",
   "metadata": {},
   "source": [
    "## A-SVGF flexxing"
   ]
  },
  {
   "cell_type": "code",
   "execution_count": 5,
   "metadata": {},
   "outputs": [
    {
     "ename": "KeyboardInterrupt",
     "evalue": "",
     "output_type": "error",
     "traceback": [
      "\u001b[0;31m---------------------------------------------------------------------------\u001b[0m",
      "\u001b[0;31mKeyboardInterrupt\u001b[0m                         Traceback (most recent call last)",
      "Cell \u001b[0;32mIn[5], line 9\u001b[0m\n\u001b[1;32m      6\u001b[0m cv2\u001b[39m.\u001b[39mimwrite(\u001b[39m\"\u001b[39m\u001b[39mresults/sponza_asvgf.png\u001b[39m\u001b[39m\"\u001b[39m, sponza_asvgf \u001b[39m*\u001b[39m \u001b[39m255.0\u001b[39m)\n\u001b[1;32m      8\u001b[0m \u001b[39mfor\u001b[39;00m i \u001b[39min\u001b[39;00m \u001b[39mrange\u001b[39m(\u001b[39m0\u001b[39m, \u001b[39m808\u001b[39m):\n\u001b[0;32m----> 9\u001b[0m     cv2\u001b[39m.\u001b[39mimwrite(\u001b[39m\"\u001b[39m\u001b[39mresults/movie/sponza/denoised_\u001b[39m\u001b[39m%d\u001b[39;00m\u001b[39m.png\u001b[39m\u001b[39m\"\u001b[39m \u001b[39m%\u001b[39m i, load_image(\u001b[39m\"\u001b[39;49m\u001b[39m/run/media/vincent/YeahMaBoyYeah/movies/a-svgf/sponza/denoised_blob_\u001b[39;49m\u001b[39m%d\u001b[39;49;00m\u001b[39m.buff\u001b[39;49m\u001b[39m\"\u001b[39;49m \u001b[39m%\u001b[39;49m i) \u001b[39m*\u001b[39m \u001b[39m255.0\u001b[39m)\n\u001b[1;32m     10\u001b[0m     cv2\u001b[39m.\u001b[39mimwrite(\u001b[39m\"\u001b[39m\u001b[39mresults/movie/sponza/noisy_\u001b[39m\u001b[39m%d\u001b[39;00m\u001b[39m.png\u001b[39m\u001b[39m\"\u001b[39m \u001b[39m%\u001b[39m i, load_image(\u001b[39m\"\u001b[39m\u001b[39m/run/media/vincent/YeahMaBoyYeah/movies/a-svgf/sponza/noisy_blob_\u001b[39m\u001b[39m%d\u001b[39;00m\u001b[39m.buff\u001b[39m\u001b[39m\"\u001b[39m \u001b[39m%\u001b[39m i) \u001b[39m*\u001b[39m \u001b[39m255.0\u001b[39m)\n",
      "Cell \u001b[0;32mIn[3], line 5\u001b[0m, in \u001b[0;36mload_image\u001b[0;34m(path)\u001b[0m\n\u001b[1;32m      3\u001b[0m data \u001b[39m=\u001b[39m buffer\u001b[39m.\u001b[39mread()\n\u001b[1;32m      4\u001b[0m num_floats \u001b[39m=\u001b[39m \u001b[39mlen\u001b[39m(data) \u001b[39m/\u001b[39m\u001b[39m/\u001b[39m \u001b[39m16\u001b[39m\n\u001b[0;32m----> 5\u001b[0m pixels \u001b[39m=\u001b[39m np\u001b[39m.\u001b[39marray(struct\u001b[39m.\u001b[39munpack(\u001b[39m'\u001b[39m\u001b[39mf\u001b[39m\u001b[39m'\u001b[39m\u001b[39m*\u001b[39mnum_floats\u001b[39m*\u001b[39m\u001b[39m4\u001b[39m, data), dtype\u001b[39m=\u001b[39mnp\u001b[39m.\u001b[39mfloat32)\n\u001b[1;32m      6\u001b[0m pixels \u001b[39m=\u001b[39m np\u001b[39m.\u001b[39mflipud(np\u001b[39m.\u001b[39mreshape(pixels, (\u001b[39m720\u001b[39m, \u001b[39m1280\u001b[39m, \u001b[39m4\u001b[39m)))\n\u001b[1;32m      7\u001b[0m img \u001b[39m=\u001b[39m cv2\u001b[39m.\u001b[39mcvtColor(pixels, cv2\u001b[39m.\u001b[39mCOLOR_RGBA2BGR)\n",
      "\u001b[0;31mKeyboardInterrupt\u001b[0m: "
     ]
    }
   ],
   "source": [
    "dragon_asvgf = load_image(\"blobs/dragon_blob_15_a-svgf.buff\")\n",
    "cv2.imwrite(\"results/dragon_asvgf.png\", dragon_asvgf * 255.0)\n",
    "deleteme_asvgf = load_image(\"blobs/deleteme_blob_15_a-svgf.buff\")\n",
    "cv2.imwrite(\"results/deleteme_asvgf.png\", deleteme_asvgf * 255.0)\n",
    "sponza_asvgf = load_image(\"blobs/sponza_blob_15_a-svgf.buff\")\n",
    "cv2.imwrite(\"results/sponza_asvgf.png\", sponza_asvgf * 255.0)\n"
   ]
  },
  {
   "attachments": {},
   "cell_type": "markdown",
   "metadata": {},
   "source": [
    "## OIDN flexxing????"
   ]
  },
  {
   "cell_type": "code",
   "execution_count": 29,
   "metadata": {},
   "outputs": [
    {
     "data": {
      "text/plain": [
       "True"
      ]
     },
     "execution_count": 29,
     "metadata": {},
     "output_type": "execute_result"
    }
   ],
   "source": [
    "dragon_oidn = load_image(\"blobs/dragon_blob_15_oidn.buff\")\n",
    "cv2.imwrite(\"results/dragon_oidn.png\", dragon_oidn * 255.0)\n",
    "sponza_oidn = load_image(\"blobs/sponza_blob_15_oidn.buff\")\n",
    "cv2.imwrite(\"results/sponza_oidn.png\", sponza_oidn * 255.0)\n",
    "deleteme_oidn = load_image(\"blobs/deleteme_blob_15_oidn.buff\")\n",
    "cv2.imwrite(\"results/deleteme_oidn.png\", deleteme_oidn * 255.0)"
   ]
  }
 ],
 "metadata": {
  "kernelspec": {
   "display_name": "Python 3",
   "language": "python",
   "name": "python3"
  },
  "language_info": {
   "codemirror_mode": {
    "name": "ipython",
    "version": 3
   },
   "file_extension": ".py",
   "mimetype": "text/x-python",
   "name": "python",
   "nbconvert_exporter": "python",
   "pygments_lexer": "ipython3",
   "version": "3.11.3"
  },
  "orig_nbformat": 4,
  "vscode": {
   "interpreter": {
    "hash": "767d51c1340bd893661ea55ea3124f6de3c7a262a8b4abca0554b478b1e2ff90"
   }
  }
 },
 "nbformat": 4,
 "nbformat_minor": 2
}
